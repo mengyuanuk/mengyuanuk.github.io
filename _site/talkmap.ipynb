{
 "cells": [
  {
   "cell_type": "markdown",
   "metadata": {},
   "source": [
    "# Leaflet cluster map of talk locations\n",
    "\n",
    "Run this from the _talks/ directory, which contains .md files of all your talks. This scrapes the location YAML field from each .md file, geolocates it with geopy/Nominatim, and uses the getorg library to output data, HTML, and Javascript for a standalone cluster map."
   ]
  },
  {
   "cell_type": "code",
   "execution_count": 5,
   "metadata": {},
   "outputs": [
    {
     "name": "stdout",
     "output_type": "stream",
     "text": [
      "Requirement already up-to-date: getorg in /home/ma/anaconda3/lib/python3.7/site-packages (0.3.1)\n",
      "Requirement not upgraded as not directly required: pygithub in /home/ma/anaconda3/lib/python3.7/site-packages (from getorg) (1.54.1)\n",
      "Requirement not upgraded as not directly required: retrying in /home/ma/anaconda3/lib/python3.7/site-packages (from getorg) (1.3.3)\n",
      "Requirement not upgraded as not directly required: geopy in /home/ma/anaconda3/lib/python3.7/site-packages (from getorg) (2.0.0)\n",
      "Requirement not upgraded as not directly required: pyjwt<2.0 in /home/ma/anaconda3/lib/python3.7/site-packages (from pygithub->getorg) (1.7.1)\n",
      "Requirement not upgraded as not directly required: deprecated in /home/ma/anaconda3/lib/python3.7/site-packages (from pygithub->getorg) (1.2.10)\n",
      "Requirement not upgraded as not directly required: requests>=2.14.0 in /home/ma/anaconda3/lib/python3.7/site-packages (from pygithub->getorg) (2.19.1)\n",
      "Requirement not upgraded as not directly required: six>=1.7.0 in /home/ma/anaconda3/lib/python3.7/site-packages (from retrying->getorg) (1.11.0)\n",
      "Requirement not upgraded as not directly required: geographiclib<2,>=1.49 in /home/ma/anaconda3/lib/python3.7/site-packages (from geopy->getorg) (1.50)\n",
      "Requirement not upgraded as not directly required: wrapt<2,>=1.10 in /home/ma/anaconda3/lib/python3.7/site-packages (from deprecated->pygithub->getorg) (1.10.11)\n",
      "Requirement not upgraded as not directly required: certifi>=2017.4.17 in /home/ma/anaconda3/lib/python3.7/site-packages (from requests>=2.14.0->pygithub->getorg) (2018.8.24)\n",
      "Requirement not upgraded as not directly required: idna<2.8,>=2.5 in /home/ma/anaconda3/lib/python3.7/site-packages (from requests>=2.14.0->pygithub->getorg) (2.7)\n",
      "Requirement not upgraded as not directly required: chardet<3.1.0,>=3.0.2 in /home/ma/anaconda3/lib/python3.7/site-packages (from requests>=2.14.0->pygithub->getorg) (3.0.4)\n",
      "Requirement not upgraded as not directly required: urllib3<1.24,>=1.21.1 in /home/ma/anaconda3/lib/python3.7/site-packages (from requests>=2.14.0->pygithub->getorg) (1.23)\n",
      "\u001b[33mYou are using pip version 10.0.1, however version 20.3.3 is available.\n",
      "You should consider upgrading via the 'pip install --upgrade pip' command.\u001b[0m\n"
     ]
    }
   ],
   "source": [
    "!pip install getorg --upgrade\n",
    "import glob\n",
    "import getorg\n",
    "from geopy import Nominatim"
   ]
  },
  {
   "cell_type": "code",
   "execution_count": 4,
   "metadata": {},
   "outputs": [
    {
     "name": "stdout",
     "output_type": "stream",
     "text": [
      "\n",
      "The following command must be run outside of the IPython shell:\n",
      "\n",
      "    $ pip install ipyleaflet \n",
      "\n",
      "The Python package manager (pip) can only be used from outside of IPython.\n",
      "Please reissue the `pip` command in a separate terminal or command prompt.\n",
      "\n",
      "See the Python documentation for more information on how to install packages:\n",
      "\n",
      "    https://docs.python.org/3/installing/\n"
     ]
    }
   ],
   "source": [
    "pip install ipyleaflet "
   ]
  },
  {
   "cell_type": "code",
   "execution_count": 12,
   "metadata": {},
   "outputs": [],
   "source": [
    "g = glob.glob(\"_talks/*.md\")"
   ]
  },
  {
   "cell_type": "code",
   "execution_count": null,
   "metadata": {},
   "outputs": [],
   "source": []
  },
  {
   "cell_type": "code",
   "execution_count": 22,
   "metadata": {},
   "outputs": [],
   "source": [
    "geocoder = Nominatim(user_agent='myuseragent')\n",
    "location_dict = {}\n",
    "location = \"\"\n",
    "permalink = \"\"\n",
    "title = \"\""
   ]
  },
  {
   "cell_type": "code",
   "execution_count": 23,
   "metadata": {},
   "outputs": [
    {
     "name": "stdout",
     "output_type": "stream",
     "text": [
      "Manchester,United Kingdom \n",
      " Manchester, Greater Manchester, North West England, England, United Kingdom\n",
      "London, UK \n",
      " London, Greater London, England, United Kingdom\n",
      "San Francisco, California \n",
      " San Francisco, San Francisco City and County, California, United States\n",
      "Los Angeles, CA \n",
      " Los Angeles, Los Angeles County, California, United States\n"
     ]
    }
   ],
   "source": [
    "\n",
    "for file in g:\n",
    "    with open(file, 'r') as f:\n",
    "        lines = f.read()\n",
    "        if lines.find('location: \"') > 1:\n",
    "            loc_start = lines.find('location: \"') + 11\n",
    "            lines_trim = lines[loc_start:]\n",
    "            loc_end = lines_trim.find('\"')\n",
    "            location = lines_trim[:loc_end]\n",
    "                            \n",
    "           \n",
    "        location_dict[location] = geocoder.geocode(location)\n",
    "        print(location, \"\\n\", location_dict[location])\n"
   ]
  },
  {
   "cell_type": "code",
   "execution_count": 24,
   "metadata": {},
   "outputs": [
    {
     "data": {
      "text/plain": [
       "'Written map to ../talkmap/'"
      ]
     },
     "execution_count": 24,
     "metadata": {},
     "output_type": "execute_result"
    }
   ],
   "source": [
    "m = getorg.orgmap.create_map_obj()\n",
    "getorg.orgmap.output_html_cluster_map(location_dict, folder_name=\"../talkmap\", hashed_usernames=False)"
   ]
  },
  {
   "cell_type": "code",
   "execution_count": null,
   "metadata": {
    "collapsed": true
   },
   "outputs": [],
   "source": []
  }
 ],
 "metadata": {
  "anaconda-cloud": {},
  "kernelspec": {
   "display_name": "Python 3",
   "language": "python",
   "name": "python3"
  },
  "language_info": {
   "codemirror_mode": {
    "name": "ipython",
    "version": 3
   },
   "file_extension": ".py",
   "mimetype": "text/x-python",
   "name": "python",
   "nbconvert_exporter": "python",
   "pygments_lexer": "ipython3",
   "version": "3.7.0"
  }
 },
 "nbformat": 4,
 "nbformat_minor": 1
}
